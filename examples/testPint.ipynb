{
 "cells": [
  {
   "cell_type": "code",
   "execution_count": 1,
   "metadata": {},
   "outputs": [],
   "source": [
    "import pandas as pd\n",
    "import numpy as np\n",
    "import pint\n",
    "import pint_pandas\n",
    "\n",
    "from ensembler.util.ensemblerUnits import kJ, nm\n",
    "from ensembler.potentials import OneD\n"
   ]
  },
  {
   "cell_type": "code",
   "execution_count": 15,
   "metadata": {},
   "outputs": [],
   "source": [
    "h = OneD.harmonicOscillatorPotential(unitless=True)"
   ]
  },
  {
   "cell_type": "code",
   "execution_count": 16,
   "metadata": {},
   "outputs": [
    {
     "name": "stdout",
     "output_type": "stream",
     "text": [
      "harmonicOscillatorPotential\n",
      "\tStates: 1\n",
      "\tDimensions: 1\n",
      "\n",
      "\tFunctional:\n",
      " \t\tV:\tVoffset + 0.5*k*(r - r_0)**2\n",
      "\t\tdVdpos:\t0.5*k*(2*r - 2*r_0)\n",
      "\n",
      "\tSimplified Function\n",
      "\t\tV:\t0.5*r**2\n",
      "\t\tdVdpos:\t1.0*r\n",
      "\n",
      "\tConstants: \n",
      "\t\tk: \t\t\t1.0 kilojoule / nanometer ** 2\n",
      "\t\tr_0: \t\t\t0.0 nanometer\n",
      "\t\tVoffset: \t\t\t0.0 kilojoule\n",
      "\t\tnDimensions: \t\t\t1\n",
      "\t\tnStates: \t\t\t1\n",
      "\n",
      "\n"
     ]
    }
   ],
   "source": [
    "print(str(h))"
   ]
  },
  {
   "cell_type": "code",
   "execution_count": 17,
   "metadata": {},
   "outputs": [
    {
     "data": {
      "text/html": [
       "<table><tbody><tr><th>Magnitude</th><td style='text-align:left;'><pre>[0 1 2 3 4 5 6 7 8 9]</pre></td></tr><tr><th>Units</th><td style='text-align:left;'>nanometer</td></tr></tbody></table>"
      ],
      "text/latex": [
       "$\\begin{pmatrix}0 & 1 & 2 & 3 & 4 & 5 & 6 & 7 & 8 & 9\\end{pmatrix}\\ \\mathrm{nanometer}$"
      ],
      "text/plain": [
       "array([0, 1, 2, 3, 4, 5, 6, 7, 8, 9]) <Unit('nanometer')>"
      ]
     },
     "execution_count": 17,
     "metadata": {},
     "output_type": "execute_result"
    }
   ],
   "source": [
    "rs = np.arange(10)*nm\n",
    "rs\n"
   ]
  },
  {
   "cell_type": "code",
   "execution_count": 18,
   "metadata": {},
   "outputs": [
    {
     "name": "stderr",
     "output_type": "stream",
     "text": [
      "/home/bschroed/Documents/projects/Ensembler/ensembler/potentials/_basicPotentials.py:283: UnitStrippedWarning: The unit of the quantity is stripped when downcasting to ndarray.\n",
      "  return np.squeeze(self._calculate_energies(np.array(positions)))\n"
     ]
    },
    {
     "data": {
      "text/plain": [
       "array([ 0. ,  0.5,  2. ,  4.5,  8. , 12.5, 18. , 24.5, 32. , 40.5])"
      ]
     },
     "execution_count": 18,
     "metadata": {},
     "output_type": "execute_result"
    }
   ],
   "source": [
    "h.ene(rs)"
   ]
  },
  {
   "cell_type": "code",
   "execution_count": 19,
   "metadata": {},
   "outputs": [
    {
     "data": {
      "text/plain": [
       "{k: 1, r_0: 1, Voffset: 1, nDimensions: 1, nStates: 1}"
      ]
     },
     "execution_count": 19,
     "metadata": {},
     "output_type": "execute_result"
    }
   ],
   "source": [
    "h.constants_units"
   ]
  },
  {
   "cell_type": "code",
   "execution_count": 20,
   "metadata": {},
   "outputs": [],
   "source": [
    "from ensembler.util.ensemblerUnits import unit_registry as ur"
   ]
  },
  {
   "cell_type": "code",
   "execution_count": 24,
   "metadata": {},
   "outputs": [
    {
     "data": {
      "text/html": [
       "speed_of_light"
      ],
      "text/latex": [
       "$\\mathrm{speed\\_of\\_light}$"
      ],
      "text/plain": [
       "<Unit('speed_of_light')>"
      ]
     },
     "execution_count": 24,
     "metadata": {},
     "output_type": "execute_result"
    }
   ],
   "source": [
    "ur.C\n"
   ]
  },
  {
   "cell_type": "code",
   "execution_count": null,
   "metadata": {},
   "outputs": [],
   "source": []
  }
 ],
 "metadata": {
  "interpreter": {
   "hash": "aabd3b7cbe8ce88b2a49ef0168a90b7afe85b22637d8d034441a33df4b14b07a"
  },
  "kernelspec": {
   "display_name": "Python 3.8.5 64-bit ('Ensembler': conda)",
   "language": "python",
   "name": "python3"
  },
  "language_info": {
   "codemirror_mode": {
    "name": "ipython",
    "version": 3
   },
   "file_extension": ".py",
   "mimetype": "text/x-python",
   "name": "python",
   "nbconvert_exporter": "python",
   "pygments_lexer": "ipython3",
   "version": "3.8.5"
  },
  "orig_nbformat": 4
 },
 "nbformat": 4,
 "nbformat_minor": 2
}
