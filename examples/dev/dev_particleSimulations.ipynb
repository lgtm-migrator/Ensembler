{
 "cells": [
  {
   "cell_type": "code",
   "execution_count": null,
   "metadata": {},
   "outputs": [],
   "source": [
    "from tqdm import tqdm\n",
    "import random\n",
    "import numpy as np\n",
    "from collections import namedtuple\n",
    "from matplotlib import pyplot as plt\n",
    "from itertools import combinations\n",
    "\n",
    "from ensembler.geometry import measures\n",
    "%matplotlib inline\n",
    "\n",
    "import matplotlib\n",
    "plot_layout_settings = {'font.family': 'sans-serif',\n",
    "                        \"font.serif\": 'Times',\n",
    "                        \"font.size\": 10,\n",
    "                        'xtick.labelsize': 10,\n",
    "                        'ytick.labelsize': 10,\n",
    "                        'axes.labelsize': 12,\n",
    "                        'axes.titlesize': 14,\n",
    "                        'legend.fontsize': 8,\n",
    "                        'savefig.dpi': 300,\n",
    "                        'figure.facecolor' : \"white\",\n",
    "                        'animation.html': 'jshtml',\n",
    "                        }\n",
    "\n",
    "\n",
    "for key, value in plot_layout_settings.items():\n",
    "    matplotlib.rcParams[key] = value\n"
   ]
  },
  {
   "cell_type": "code",
   "execution_count": null,
   "metadata": {},
   "outputs": [],
   "source": [
    "def draw_particles_2D(particles):\n",
    "    fig = plt.figure()\n",
    "    ax = fig.add_subplot(111)\n",
    "\n",
    "    all_x = [p.coordinates[0] for p in particles]\n",
    "    all_y = [p.coordinates[1] for p in particles]\n",
    "\n",
    "    ax.scatter(x=all_x, y=all_y, c=\"r\", alpha=0.5)\n",
    "    ax.set_ylabel(\"y\")\n",
    "    ax.set_xlabel(\"x\")\n",
    "\n",
    "    return fig"
   ]
  },
  {
   "cell_type": "code",
   "execution_count": null,
   "metadata": {},
   "outputs": [],
   "source": [
    "lennard_jones = lambda epsilon,sigma, x_shift, y_shift: lambda position: 4 * epsilon * ((sigma / (position - x_shift)) ** 12 - (sigma / (position - x_shift)) ** 6) + y_shift\n",
    "\n"
   ]
  },
  {
   "cell_type": "markdown",
   "metadata": {
    "pycharm": {
     "name": "#%% md\n"
    }
   },
   "source": [
    "## Define Coordinates"
   ]
  },
  {
   "cell_type": "code",
   "execution_count": null,
   "metadata": {},
   "outputs": [],
   "source": [
    "particle = namedtuple(\"particle\", [\"ID\", \"mass\", \"partialCharge\", \"coordinates\"])\n",
    "n_particles = 150\n",
    "particles = []\n",
    "min_x = min_y = 0\n",
    "max_x = max_y = 10\n",
    "for particleID in range(n_particles):\n",
    "    x = random.randint(min_x*100, max_x*100)/100\n",
    "    y = random.randint(min_y*100, max_y*100)/100\n",
    "    coordI = np.array([x,y])\n",
    "    particleI = particle(ID=particleID, mass=1, partialCharge=0, coordinates=coordI)\n",
    "\n",
    "    particles.append(particleI)\n",
    "\n",
    "draw_particles_2D(particles)\n",
    "pass"
   ]
  },
  {
   "cell_type": "markdown",
   "metadata": {
    "pycharm": {
     "name": "#%% md\n"
    }
   },
   "source": [
    "## Define potential"
   ]
  },
  {
   "cell_type": "code",
   "execution_count": null,
   "metadata": {},
   "outputs": [],
   "source": [
    "lj = lennard_jones(sigma=3, epsilon=5, x_shift=-2.0, y_shift=0)\n",
    "\n",
    "positions = np.linspace(0,10, 100)\n",
    "penes = list(map(lj, positions))\n",
    "plt.plot(positions, penes)\n",
    "plt.ylim([-20,20])"
   ]
  },
  {
   "cell_type": "markdown",
   "metadata": {
    "pycharm": {
     "name": "#%% md\n"
    }
   },
   "source": [
    "## build simulation"
   ]
  },
  {
   "cell_type": "code",
   "execution_count": null,
   "metadata": {},
   "outputs": [],
   "source": [
    "def pbc(pos, space_range = [0,10]):\n",
    "    if(pos>max(space_range)):\n",
    "        return min(space_range)+(pos%max(space_range))\n",
    "    elif(pos<min(space_range)):\n",
    "        return max(space_range)-(min(space_range)%pos)\n",
    "    else:\n",
    "        return pos\n",
    "\n",
    "vpbc = np.vectorize(pbc)\n",
    "r0 = r1 =1\n",
    "dt = 1\n",
    "steps = 200\n",
    "brownsch_shift = lambda : np.array([random.randint(0,100)/100, random.randint(0,100)/100])\n",
    "\n",
    "\n",
    "#draw_particles_2D(particles)\n",
    "\n",
    "sorted_particles = list(sorted(particles, key=lambda x: x.ID))\n",
    "nParticles = len(particles)\n",
    "nDim = 2\n",
    "\n",
    "traj = []\n",
    "tmp_particles_coords = np.array([p.coordinates for p in sorted_particles])\n",
    "traj.append(tmp_particles_coords)\n",
    "\n",
    "for step in tqdm(range(steps)):\n",
    "        \n",
    "    #drift:\n",
    "    tmp_drift_particles_coords  = np.zeros([nParticles, nDim])\n",
    "    for ind, p in enumerate(sorted_particles):     \n",
    "        cparticle = tmp_particles_coords[ind]\n",
    "        \n",
    "        p_vel = [0,0] #brownsch_shift() #np.array([0, 0.2])#\n",
    "        mean_coordsI = cparticle + p_vel\n",
    "        pbc_coordsI = vpbc(mean_coordsI)\n",
    "        tmp_drift_particles_coords[ind] = pbc_coordsI\n",
    "    \n",
    "    #N-Body-Potentials: \n",
    "    ##calculate new virtual position, energies\n",
    "    new_particles_shifts = {}\n",
    "    for pA,pB in combinations(sorted_particles,2):\n",
    "        pointA, pointB = np.array(tmp_particles_coords[pA.ID]), np.array(tmp_particles_coords[pB.ID])\n",
    "        \n",
    "        #PBC In distances \n",
    "        r = pointB-pointA\n",
    "        ene = lj(np.abs(r))\n",
    "        shift_norm = (np.abs(np.array([r0, r1]))/measures.calculate_vector_length(r)*dt)/2\n",
    "\n",
    "        if(not pA.ID in new_particles_shifts):\n",
    "            new_particles_shifts.update({pA.ID : {\"shift\":[shift_norm], \"ene\":[ene]}})\n",
    "        else:\n",
    "            new_particles_shifts[pA.ID][\"shift\"].append(shift_norm)\n",
    "            new_particles_shifts[pA.ID][\"ene\"].append(ene)\n",
    "\n",
    "        if(not pB.ID in new_particles_shifts):\n",
    "            new_particles_shifts.update({pB.ID : {\"shift\":[-shift_norm], \"ene\":[ene]}})\n",
    "        else:\n",
    "            new_particles_shifts[pB.ID][\"shift\"].append(-shift_norm)\n",
    "            new_particles_shifts[pB.ID][\"ene\"].append(ene)\n",
    "\n",
    "    ##update particles to new position\n",
    "    new_particles_coords = np.zeros([nParticles, nDim])\n",
    "    for ind, p in enumerate(sorted_particles):     \n",
    "        cparticle = tmp_drift_particles_coords[ind]\n",
    "        shiftsI = np.array(new_particles_shifts[p.ID][\"shift\"])\n",
    "        enesI = np.array(new_particles_shifts[p.ID][\"ene\"])\n",
    "        \n",
    "        totale_shift = [x if(x<1) else 1 for x in  np.average(shiftsI.T, weights=enesI.T, axis=1)]\n",
    "        \n",
    "        mean_coordsI = cparticle + totale_shift\n",
    "        pbc_coordsI = vpbc(mean_coordsI)\n",
    "        new_particles_coords[ind] = pbc_coordsI\n",
    "    tmp_particles_coords = np.array(new_particles_coords)\n",
    "\n",
    "    traj.append(tmp_particles_coords)\n",
    "traj = np.array(traj)\n",
    "#draw_particles_2D(tmp_particles_coords)\n",
    "pass"
   ]
  },
  {
   "cell_type": "markdown",
   "metadata": {},
   "source": [
    "### Visualization"
   ]
  },
  {
   "cell_type": "code",
   "execution_count": null,
   "metadata": {},
   "outputs": [],
   "source": [
    "from matplotlib import animation\n",
    "\n",
    "def animation_particle_2D(particle_traj, out_path=None, \n",
    "                          x_range=None, y_range=None,\n",
    "                          out_writer=\"pillow\", dpi=120):\n",
    "    fig = plt.figure()\n",
    "    ax = fig.add_subplot(111)\n",
    "    ax.set_ylabel(\"y\")\n",
    "    ax.set_xlabel(\"x\")\n",
    "    if(not x_range is None):\n",
    "        ax.set_xlim([min(x_range), max(x_range)])\n",
    "    if(not y_range is None):\n",
    "        ax.set_ylim([min(y_range), max(y_range)])\n",
    "\n",
    "    ax.plot(particle_traj[0, :, 0], particle_traj[0, :, 1], \"bo\", ms=5, c=\"b\", lw=0, alpha=0.3)\n",
    "\n",
    "    t0 = 0\n",
    "    tmax = len(particle_traj)\n",
    "    step_size = 1\n",
    "\n",
    "    particles_points, = ax.plot([],[], \"bo\", ms=1.5, c=\"r\", lw=0, alpha=0.4)\n",
    "    all_data = particle_traj\n",
    "\n",
    "    def init():\n",
    "        particles_points.set_data(particle_traj[0, :, 0], particle_traj[0, :, 1])\n",
    "\n",
    "\n",
    "    def data_gen(t=t0):\n",
    "        while t < tmax:\n",
    "            t+=step_size\n",
    "            data = all_data[t-1]\n",
    "            yield data\n",
    "\n",
    "    def run(data):\n",
    "        particles_points.set_data(data[:,0],data[:,1])\n",
    "        return particles_points,\n",
    "\n",
    "    ani = animation.FuncAnimation(fig=fig, func=run, frames=data_gen, init_func=init)\n",
    "    return ani"
   ]
  },
  {
   "cell_type": "code",
   "execution_count": null,
   "metadata": {},
   "outputs": [],
   "source": [
    "c_range = [-1,11]\n",
    "ani = animation_particle_2D(particle_traj=traj, x_range=c_range, y_range=c_range)\n",
    "ani"
   ]
  },
  {
   "cell_type": "code",
   "execution_count": null,
   "metadata": {},
   "outputs": [],
   "source": [
    "ani.save(\"fun.mpg\")"
   ]
  },
  {
   "cell_type": "markdown",
   "metadata": {
    "pycharm": {
     "name": "#%% md\n"
    }
   },
   "source": [
    "## Class"
   ]
  },
  {
   "cell_type": "code",
   "execution_count": null,
   "metadata": {},
   "outputs": [],
   "source": [
    "class particle_system():\n",
    "\n",
    "    def __init__(self, particle_coord, particle_ff, integrator):\n",
    "        self.particle = particle_coord\n",
    "        self.ff = particle_ff\n",
    "        self.integrator = integrator\n",
    "\n",
    "\n",
    "            \n",
    "    def simulate(self, steps = 10):\n",
    "        for step in tqdm(range(steps)):\n",
    "\n",
    "            #drift:\n",
    "            tmp_drift_particles_coords  = np.zeros([nParticles, nDim])\n",
    "            for ind, p in enumerate(sorted_particles):     \n",
    "                cparticle = tmp_particles_coords[ind]\n",
    "\n",
    "                p_vel = [0,0] #brownsch_shift() #np.array([0, 0.2])#\n",
    "                mean_coordsI = cparticle + p_vel\n",
    "                pbc_coordsI = vpbc(mean_coordsI)\n",
    "                tmp_drift_particles_coords[ind] = pbc_coordsI\n",
    "\n",
    "            #N-Body-Potentials: \n",
    "            ##calculate new virtual position, energies\n",
    "            new_particles_shifts = {}\n",
    "            for pA,pB in combinations(sorted_particles,2):\n",
    "                pointA, pointB = np.array(tmp_particles_coords[pA.ID]), np.array(tmp_particles_coords[pB.ID])\n",
    "\n",
    "                #PBC In distances \n",
    "                r = pointB-pointA\n",
    "                ene = lj(np.abs(r))\n",
    "                shift_norm = (np.abs(np.array([r0, r1]))/measures.calculate_vector_length(r)*dt)/2\n",
    "\n",
    "                if(not pA.ID in new_particles_shifts):\n",
    "                    new_particles_shifts.update({pA.ID : {\"shift\":[shift_norm], \"ene\":[ene]}})\n",
    "                else:\n",
    "                    new_particles_shifts[pA.ID][\"shift\"].append(shift_norm)\n",
    "                    new_particles_shifts[pA.ID][\"ene\"].append(ene)\n",
    "\n",
    "                if(not pB.ID in new_particles_shifts):\n",
    "                    new_particles_shifts.update({pB.ID : {\"shift\":[-shift_norm], \"ene\":[ene]}})\n",
    "                else:\n",
    "                    new_particles_shifts[pB.ID][\"shift\"].append(-shift_norm)\n",
    "                    new_particles_shifts[pB.ID][\"ene\"].append(ene)\n",
    "\n",
    "            ##update particles to new position\n",
    "            new_particles_coords = np.zeros([nParticles, nDim])\n",
    "            for ind, p in enumerate(sorted_particles):     \n",
    "                cparticle = tmp_drift_particles_coords[ind]\n",
    "                shiftsI = np.array(new_particles_shifts[p.ID][\"shift\"])\n",
    "                enesI = np.array(new_particles_shifts[p.ID][\"ene\"])\n",
    "\n",
    "                totale_shift = [x if(x<1) else 1 for x in  np.average(shiftsI.T, weights=enesI.T, axis=1)]\n",
    "\n",
    "                mean_coordsI = cparticle + totale_shift\n",
    "                pbc_coordsI = vpbc(mean_coordsI)\n",
    "                new_particles_coords[ind] = pbc_coordsI\n",
    "            tmp_particles_coords = np.array(new_particles_coords)\n",
    "\n",
    "            traj.append(tmp_particles_coords)\n",
    "        traj = np.array(traj)\n",
    "\n"
   ]
  }
 ],
 "metadata": {
  "language_info": {
   "name": "python"
  }
 },
 "nbformat": 4,
 "nbformat_minor": 4
}
