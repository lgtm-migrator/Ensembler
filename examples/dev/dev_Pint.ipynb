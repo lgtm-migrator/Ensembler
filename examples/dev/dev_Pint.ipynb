{
 "cells": [
  {
   "cell_type": "code",
   "execution_count": 1,
   "metadata": {},
   "outputs": [],
   "source": [
    "import pandas as pd\n",
    "import numpy as np\n",
    "import pint\n",
    "import pint_pandas\n",
    "\n",
    "from ensembler.util.units import unit_registry\n",
    "from ensembler.potentials import OneD\n",
    "from ensembler.system.basic_system import system"
   ]
  },
  {
   "cell_type": "code",
   "execution_count": 2,
   "metadata": {},
   "outputs": [],
   "source": [
    "h = OneD.harmonicOscillatorPotential(unitless=False)"
   ]
  },
  {
   "cell_type": "code",
   "execution_count": 14,
   "metadata": {},
   "outputs": [
    {
     "data": {
      "text/latex": [
       "$\\displaystyle Voffset + 0.5 k \\left(r - r_{0}\\right)^{2}$"
      ],
      "text/plain": [
       "Voffset + 0.5*k*(r - r_0)**2"
      ]
     },
     "execution_count": 14,
     "metadata": {},
     "output_type": "execute_result"
    }
   ],
   "source": [
    "h.V_functional"
   ]
  },
  {
   "cell_type": "code",
   "execution_count": 3,
   "metadata": {},
   "outputs": [
    {
     "name": "stdout",
     "output_type": "stream",
     "text": [
      "harmonicOscillatorPotential\n",
      "\tStates: 1\n",
      "\tDimensions: 1\n",
      "\n",
      "\tFunctional:\n",
      " \t\tV:\tVoffset + 0.5*k*(r - r_0)**2\n",
      "\t\tdVdpos:\t0.5*k*(2*r - 2*r_0)\n",
      "\n",
      "\tSimplified Function\n",
      "\t\tV:\t0.5*r**2\n",
      "\t\tdVdpos:\t1.0*r\n",
      "\n",
      "\tConstants: \n",
      "\t\tk: \t\t\t1.0 kJ / nm ** 2\n",
      "\t\tr_0: \t\t\t0.0 nm\n",
      "\t\tVoffset: \t\t\t0.0 kJ\n",
      "\t\tnDimensions: \t\t\t1\n",
      "\t\tnStates: \t\t\t1\n",
      "\n",
      "\n"
     ]
    }
   ],
   "source": [
    "print(str(h))"
   ]
  },
  {
   "cell_type": "code",
   "execution_count": 4,
   "metadata": {},
   "outputs": [
    {
     "data": {
      "text/html": [
       "<table><tbody><tr><th>Magnitude</th><td style='text-align:left;'><pre>[0 1 2 3 4 5 6 7 8 9]</pre></td></tr><tr><th>Units</th><td style='text-align:left;'>nm</td></tr></tbody></table>"
      ],
      "text/latex": [
       "$\\begin{pmatrix}0 & 1 & 2 & 3 & 4 & 5 & 6 & 7 & 8 & 9\\end{pmatrix}\\ \\mathrm{nm}$"
      ],
      "text/plain": [
       "array([0, 1, 2, 3, 4, 5, 6, 7, 8, 9]) <Unit('nanometer')>"
      ]
     },
     "execution_count": 4,
     "metadata": {},
     "output_type": "execute_result"
    }
   ],
   "source": [
    "rs = np.arange(10)*unit_registry.nm\n",
    "rs\n"
   ]
  },
  {
   "cell_type": "code",
   "execution_count": 5,
   "metadata": {},
   "outputs": [
    {
     "data": {
      "text/html": [
       "<table><tbody><tr><th>Magnitude</th><td style='text-align:left;'><pre>[0.0 0.5 2.0 4.5 8.0 12.5 18.0 24.5 32.0 40.5]</pre></td></tr><tr><th>Units</th><td style='text-align:left;'>kJ</td></tr></tbody></table>"
      ],
      "text/latex": [
       "$\\begin{pmatrix}0.0 & 0.5 & 2.0 & 4.5 & 8.0 & 12.5 & 18.0 & 24.5 & 32.0 & 40.5\\end{pmatrix}\\ \\mathrm{kJ}$"
      ],
      "text/plain": [
       "array([ 0. ,  0.5,  2. ,  4.5,  8. , 12.5, 18. , 24.5, 32. , 40.5]) <Unit('kilojoule')>"
      ]
     },
     "execution_count": 5,
     "metadata": {},
     "output_type": "execute_result"
    }
   ],
   "source": [
    "h.ene(rs)"
   ]
  },
  {
   "cell_type": "code",
   "execution_count": 6,
   "metadata": {},
   "outputs": [
    {
     "data": {
      "text/html": [
       "<table><tbody><tr><th>Magnitude</th><td style='text-align:left;'><pre>[0.0 1.0 2.0 3.0 4.0 5.0 6.0 7.0 8.0 9.0]</pre></td></tr><tr><th>Units</th><td style='text-align:left;'>kJ/nm</td></tr></tbody></table>"
      ],
      "text/latex": [
       "$\\begin{pmatrix}0.0 & 1.0 & 2.0 & 3.0 & 4.0 & 5.0 & 6.0 & 7.0 & 8.0 & 9.0\\end{pmatrix}\\ \\frac{\\mathrm{kJ}}{\\mathrm{nm}}$"
      ],
      "text/plain": [
       "array([0., 1., 2., 3., 4., 5., 6., 7., 8., 9.]) <Unit('kilojoule / nanometer')>"
      ]
     },
     "execution_count": 6,
     "metadata": {},
     "output_type": "execute_result"
    }
   ],
   "source": [
    "h.force(rs)"
   ]
  },
  {
   "cell_type": "code",
   "execution_count": 7,
   "metadata": {},
   "outputs": [
    {
     "data": {
      "text/plain": [
       "(1 <Unit('kilojoule / nanometer ** 2')>,\n",
       " 1 <Unit('nanometer')>,\n",
       " 1 <Unit('kilojoule')>,\n",
       " 1,\n",
       " 1,\n",
       " 1 <Unit('nanometer')>)"
      ]
     },
     "execution_count": 7,
     "metadata": {},
     "output_type": "execute_result"
    }
   ],
   "source": [
    "h.argsV"
   ]
  },
  {
   "cell_type": "code",
   "execution_count": 8,
   "metadata": {},
   "outputs": [
    {
     "data": {
      "text/html": [
       "nm"
      ],
      "text/latex": [
       "$\\mathrm{nm}$"
      ],
      "text/plain": [
       "<Unit('nanometer')>"
      ]
     },
     "execution_count": 8,
     "metadata": {},
     "output_type": "execute_result"
    }
   ],
   "source": [
    "h._solve_units(h.dVdpos,\n",
    "               unit_registry.nm*1)"
   ]
  },
  {
   "cell_type": "code",
   "execution_count": 9,
   "metadata": {},
   "outputs": [],
   "source": [
    "x = h.ff(*h.argsV)"
   ]
  },
  {
   "cell_type": "code",
   "execution_count": 10,
   "metadata": {},
   "outputs": [
    {
     "data": {
      "text/html": [
       "1.0 nm"
      ],
      "text/latex": [
       "$1.0\\ \\mathrm{nm}$"
      ],
      "text/plain": [
       "1.0 <Unit('nanometer')>"
      ]
     },
     "execution_count": 10,
     "metadata": {},
     "output_type": "execute_result"
    }
   ],
   "source": [
    "import pint\n",
    "pint.Quantity(x)"
   ]
  },
  {
   "cell_type": "code",
   "execution_count": 11,
   "metadata": {},
   "outputs": [
    {
     "data": {
      "text/plain": [
       "<function _lambdifygenerated(k, r_0, Voffset, nDimensions, nStates, r)>"
      ]
     },
     "execution_count": 11,
     "metadata": {},
     "output_type": "execute_result"
    }
   ],
   "source": [
    "h.ff"
   ]
  },
  {
   "cell_type": "code",
   "execution_count": 12,
   "metadata": {},
   "outputs": [
    {
     "data": {
      "text/latex": [
       "$\\displaystyle 0.5 k \\left(2 r - 2 r_{0}\\right)$"
      ],
      "text/plain": [
       "0.5*k*(2*r - 2*r_0)"
      ]
     },
     "execution_count": 12,
     "metadata": {},
     "output_type": "execute_result"
    }
   ],
   "source": [
    "h.dVdpos_functional"
   ]
  },
  {
   "cell_type": "code",
   "execution_count": 13,
   "metadata": {},
   "outputs": [
    {
     "data": {
      "text/plain": [
       "{k, r, r_0}"
      ]
     },
     "execution_count": 13,
     "metadata": {},
     "output_type": "execute_result"
    }
   ],
   "source": [
    "h.dVdpos_functional.free_symbols"
   ]
  },
  {
   "cell_type": "code",
   "execution_count": null,
   "metadata": {},
   "outputs": [],
   "source": []
  }
 ],
 "metadata": {
  "interpreter": {
   "hash": "aabd3b7cbe8ce88b2a49ef0168a90b7afe85b22637d8d034441a33df4b14b07a"
  },
  "kernelspec": {
   "display_name": "Python 3.8.5 ('Ensembler')",
   "language": "python",
   "name": "python3"
  },
  "language_info": {
   "codemirror_mode": {
    "name": "ipython",
    "version": 3
   },
   "file_extension": ".py",
   "mimetype": "text/x-python",
   "name": "python",
   "nbconvert_exporter": "python",
   "pygments_lexer": "ipython3",
   "version": "3.8.5"
  }
 },
 "nbformat": 4,
 "nbformat_minor": 2
}
